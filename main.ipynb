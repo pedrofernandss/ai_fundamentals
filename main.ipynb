{
 "cells": [
  {
   "cell_type": "markdown",
   "id": "2f6cc3a0",
   "metadata": {},
   "source": [
    "# Dolar Forecasting"
   ]
  },
  {
   "cell_type": "markdown",
   "id": "fd437135",
   "metadata": {},
   "source": [
    "This is a simple side project for dolar forecasting. Here I intend to work with the foundations of Machine Learning and build from scratch the algorithms. Without frameworks and librarys as Scikit Learn or Pytorch. Just simple Python code  "
   ]
  },
  {
   "cell_type": "markdown",
   "id": "35ac66e5",
   "metadata": {},
   "source": [
    "### Dataset\n",
    "\n",
    "The dataset used in this project was extracted from [\"Economática\"](https://www.economatica.com/), a comprehensive platform for financial data. \n",
    "\n",
    "In June 1994, Brazil implemented the \"Plano Real\", a economic strategy that changed the country's currency. When the Real was introduced, his value was pegged to U.S dolar, this means that R$1 was equal to US$1.    "
   ]
  },
  {
   "cell_type": "code",
   "execution_count": 80,
   "id": "29d212ed",
   "metadata": {},
   "outputs": [],
   "source": [
    "import numpy as np\n",
    "import pandas as pd\n",
    "import seaborn as sns\n",
    "import matplotlib.pyplot as plt"
   ]
  },
  {
   "cell_type": "code",
   "execution_count": 81,
   "id": "abf4992b",
   "metadata": {},
   "outputs": [],
   "source": [
    "file_name = \"dolar_dataset.xlsx\"\n",
    "dataset = pd.read_excel(file_name)"
   ]
  },
  {
   "cell_type": "code",
   "execution_count": 82,
   "id": "a97b6ed7",
   "metadata": {},
   "outputs": [
    {
     "data": {
      "application/vnd.microsoft.datawrangler.viewer.v0+json": {
       "columns": [
        {
         "name": "index",
         "rawType": "int64",
         "type": "integer"
        },
        {
         "name": "Mes_Ano",
         "rawType": "object",
         "type": "string"
        },
        {
         "name": "Fechamento",
         "rawType": "float64",
         "type": "float"
        }
       ],
       "ref": "f28dc1b6-ee52-4827-aac9-da55c118f0c7",
       "rows": [
        [
         "0",
         "1994-06",
         "1.0"
        ],
        [
         "1",
         "1994-07",
         "0.94"
        ],
        [
         "2",
         "1994-08",
         "0.889"
        ],
        [
         "3",
         "1994-09",
         "0.853"
        ],
        [
         "4",
         "1994-10",
         "0.846"
        ]
       ],
       "shape": {
        "columns": 2,
        "rows": 5
       }
      },
      "text/html": [
       "<div>\n",
       "<style scoped>\n",
       "    .dataframe tbody tr th:only-of-type {\n",
       "        vertical-align: middle;\n",
       "    }\n",
       "\n",
       "    .dataframe tbody tr th {\n",
       "        vertical-align: top;\n",
       "    }\n",
       "\n",
       "    .dataframe thead th {\n",
       "        text-align: right;\n",
       "    }\n",
       "</style>\n",
       "<table border=\"1\" class=\"dataframe\">\n",
       "  <thead>\n",
       "    <tr style=\"text-align: right;\">\n",
       "      <th></th>\n",
       "      <th>Mes_Ano</th>\n",
       "      <th>Fechamento</th>\n",
       "    </tr>\n",
       "  </thead>\n",
       "  <tbody>\n",
       "    <tr>\n",
       "      <th>0</th>\n",
       "      <td>1994-06</td>\n",
       "      <td>1.000</td>\n",
       "    </tr>\n",
       "    <tr>\n",
       "      <th>1</th>\n",
       "      <td>1994-07</td>\n",
       "      <td>0.940</td>\n",
       "    </tr>\n",
       "    <tr>\n",
       "      <th>2</th>\n",
       "      <td>1994-08</td>\n",
       "      <td>0.889</td>\n",
       "    </tr>\n",
       "    <tr>\n",
       "      <th>3</th>\n",
       "      <td>1994-09</td>\n",
       "      <td>0.853</td>\n",
       "    </tr>\n",
       "    <tr>\n",
       "      <th>4</th>\n",
       "      <td>1994-10</td>\n",
       "      <td>0.846</td>\n",
       "    </tr>\n",
       "  </tbody>\n",
       "</table>\n",
       "</div>"
      ],
      "text/plain": [
       "   Mes_Ano  Fechamento\n",
       "0  1994-06       1.000\n",
       "1  1994-07       0.940\n",
       "2  1994-08       0.889\n",
       "3  1994-09       0.853\n",
       "4  1994-10       0.846"
      ]
     },
     "execution_count": 82,
     "metadata": {},
     "output_type": "execute_result"
    }
   ],
   "source": [
    "dataset.head(5)"
   ]
  },
  {
   "cell_type": "markdown",
   "id": "8aa32c81",
   "metadata": {},
   "source": [
    "The date column (Mes_Ano) was originally in YYYY-MM string formart. For a better analysis and aggregation, this column was split into two separate columns: 'Ano' (Year) and 'Mês' (Month). \n",
    "\n",
    "The column names were kept in their original Brazilian Portuguese and in the followind order:\n",
    "\n",
    "* Mês = Month -> The reference month of observation\n",
    "* Ano = Year -> The reference year of observation\n",
    "* Fechamento = Closing Value -> The exchange rate of the U.S. Dollar (USD) to the Brazilian Real (BRL) at the end of the month"
   ]
  },
  {
   "cell_type": "code",
   "execution_count": 84,
   "id": "03368ce4",
   "metadata": {},
   "outputs": [],
   "source": [
    "splited_data = dataset['Mes_Ano'].str.split('-', expand=True)\n",
    "dataset = dataset.drop(columns=['Mes_Ano'])\n",
    "dataset['Ano'] = pd.to_numeric(splited_data[0]) \n",
    "dataset['Mês'] = splited_data[1]"
   ]
  },
  {
   "cell_type": "code",
   "execution_count": 85,
   "id": "ed4aee18",
   "metadata": {},
   "outputs": [],
   "source": [
    "new_column_order = ['Mês', 'Ano', 'Fechamento']\n",
    "dataset = dataset[new_column_order]"
   ]
  },
  {
   "cell_type": "code",
   "execution_count": 86,
   "id": "5f518362",
   "metadata": {},
   "outputs": [],
   "source": [
    "df_grouped_by_year = dataset.groupby('Ano', as_index=False)['Fechamento'].mean()"
   ]
  },
  {
   "cell_type": "code",
   "execution_count": 87,
   "id": "9e1d6263",
   "metadata": {},
   "outputs": [
    {
     "data": {
      "text/plain": [
       "[]"
      ]
     },
     "execution_count": 87,
     "metadata": {},
     "output_type": "execute_result"
    },
    {
     "data": {
      "image/png": "[encoded data removed]",
      "text/plain": [
       "<Figure size 640x480 with 1 Axes>"
      ]
     },
     "metadata": {},
     "output_type": "display_data"
    }
   ],
   "source": [
    "plt.bar(df_grouped_by_year['Ano'], df_grouped_by_year['Fechamento'])\n",
    "plt.title('Média do Dólar')\n",
    "plt.xlabel('Ano')\n",
    "plt.ylabel('Dólar')\n",
    "plt.plot()"
   ]
  },
  {
   "cell_type": "code",
   "execution_count": 88,
   "id": "894daaaa",
   "metadata": {},
   "outputs": [],
   "source": [
    "df_five_years_grouped = dataset.copy()"
   ]
  },
  {
   "cell_type": "code",
   "execution_count": 89,
   "id": "6bd4d4c1",
   "metadata": {},
   "outputs": [],
   "source": [
    "initial_year = df_five_years_grouped['Ano'].min()\n",
    "group_identifier = (df_five_years_grouped['Ano'] - initial_year) // 5\n",
    "period_start_year = initial_year + (group_identifier*5)\n",
    "df_five_years_grouped['Período'] = period_start_year.astype(str) + '-' + (period_start_year + 4).astype(str)\n",
    "\n",
    "df_five_years_grouped = df_five_years_grouped.groupby('Período', as_index=False)['Fechamento'].mean()"
   ]
  },
  {
   "cell_type": "code",
   "execution_count": 90,
   "id": "99328e40",
   "metadata": {},
   "outputs": [
    {
     "data": {
      "application/vnd.microsoft.datawrangler.viewer.v0+json": {
       "columns": [
        {
         "name": "index",
         "rawType": "int64",
         "type": "integer"
        },
        {
         "name": "Período",
         "rawType": "object",
         "type": "string"
        },
        {
         "name": "Fechamento",
         "rawType": "float64",
         "type": "float"
        }
       ],
       "ref": "b694d4ba-61f7-4751-99fd-72bfe17d0cb4",
       "rows": [
        [
         "0",
         "1994-1998",
         "1.024169090909091"
        ],
        [
         "1",
         "1999-2003",
         "2.4195149999999996"
        ],
        [
         "2",
         "2004-2008",
         "2.2521983333333333"
        ],
        [
         "3",
         "2009-2013",
         "1.9106366666666665"
        ],
        [
         "4",
         "2014-2018",
         "3.2160283333333335"
        ],
        [
         "5",
         "2019-2023",
         "4.943411666666666"
        ],
        [
         "6",
         "2024-2028",
         "5.556933333333333"
        ]
       ],
       "shape": {
        "columns": 2,
        "rows": 7
       }
      },
      "text/html": [
       "<div>\n",
       "<style scoped>\n",
       "    .dataframe tbody tr th:only-of-type {\n",
       "        vertical-align: middle;\n",
       "    }\n",
       "\n",
       "    .dataframe tbody tr th {\n",
       "        vertical-align: top;\n",
       "    }\n",
       "\n",
       "    .dataframe thead th {\n",
       "        text-align: right;\n",
       "    }\n",
       "</style>\n",
       "<table border=\"1\" class=\"dataframe\">\n",
       "  <thead>\n",
       "    <tr style=\"text-align: right;\">\n",
       "      <th></th>\n",
       "      <th>Período</th>\n",
       "      <th>Fechamento</th>\n",
       "    </tr>\n",
       "  </thead>\n",
       "  <tbody>\n",
       "    <tr>\n",
       "      <th>0</th>\n",
       "      <td>1994-1998</td>\n",
       "      <td>1.024169</td>\n",
       "    </tr>\n",
       "    <tr>\n",
       "      <th>1</th>\n",
       "      <td>1999-2003</td>\n",
       "      <td>2.419515</td>\n",
       "    </tr>\n",
       "    <tr>\n",
       "      <th>2</th>\n",
       "      <td>2004-2008</td>\n",
       "      <td>2.252198</td>\n",
       "    </tr>\n",
       "    <tr>\n",
       "      <th>3</th>\n",
       "      <td>2009-2013</td>\n",
       "      <td>1.910637</td>\n",
       "    </tr>\n",
       "    <tr>\n",
       "      <th>4</th>\n",
       "      <td>2014-2018</td>\n",
       "      <td>3.216028</td>\n",
       "    </tr>\n",
       "    <tr>\n",
       "      <th>5</th>\n",
       "      <td>2019-2023</td>\n",
       "      <td>4.943412</td>\n",
       "    </tr>\n",
       "    <tr>\n",
       "      <th>6</th>\n",
       "      <td>2024-2028</td>\n",
       "      <td>5.556933</td>\n",
       "    </tr>\n",
       "  </tbody>\n",
       "</table>\n",
       "</div>"
      ],
      "text/plain": [
       "     Período  Fechamento\n",
       "0  1994-1998    1.024169\n",
       "1  1999-2003    2.419515\n",
       "2  2004-2008    2.252198\n",
       "3  2009-2013    1.910637\n",
       "4  2014-2018    3.216028\n",
       "5  2019-2023    4.943412\n",
       "6  2024-2028    5.556933"
      ]
     },
     "execution_count": 90,
     "metadata": {},
     "output_type": "execute_result"
    }
   ],
   "source": [
    "df_five_years_grouped"
   ]
  },
  {
   "cell_type": "code",
   "execution_count": 91,
   "id": "01e04461",
   "metadata": {},
   "outputs": [
    {
     "data": {
      "text/plain": [
       "[]"
      ]
     },
     "execution_count": 91,
     "metadata": {},
     "output_type": "execute_result"
    },
    {
     "data": {
      "image/png": "[encoded data removed]",
      "text/plain": [
       "<Figure size 1200x600 with 1 Axes>"
      ]
     },
     "metadata": {},
     "output_type": "display_data"
    }
   ],
   "source": [
    "plt.figure(figsize=(12,6))\n",
    "plt.bar(df_five_years_grouped['Período'], df_five_years_grouped['Fechamento'], color='#3e9c35')\n",
    "plt.title('Média do Dólar')\n",
    "plt.ylabel('Dólar')\n",
    "plt.xlabel('Ano')\n",
    "plt.plot()"
   ]
  }
 ],
 "metadata": {
  "kernelspec": {
   "display_name": "Python 3",
   "language": "python",
   "name": "python3"
  },
  "language_info": {
   "codemirror_mode": {
    "name": "ipython",
    "version": 3
   },
   "file_extension": ".py",
   "mimetype": "text/x-python",
   "name": "python",
   "nbconvert_exporter": "python",
   "pygments_lexer": "ipython3",
   "version": "3.13.3"
  }
 },
 "nbformat": 4,
 "nbformat_minor": 5
}
