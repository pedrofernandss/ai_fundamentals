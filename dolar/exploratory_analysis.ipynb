{
 "cells": [
  {
   "cell_type": "markdown",
   "id": "2f6cc3a0",
   "metadata": {},
   "source": [
    "# Dolar Forecasting"
   ]
  },
  {
   "cell_type": "markdown",
   "id": "fd437135",
   "metadata": {},
   "source": [
    "This is a simple side project for dolar forecasting. Here I intend to work with the foundations of Machine Learning and build from scratch the algorithms. Without frameworks and librarys as Scikit Learn or Pytorch. Just simple Python code  "
   ]
  },
  {
   "cell_type": "markdown",
   "id": "d80387d9",
   "metadata": {},
   "source": [
    "While the analysis of the exchange rate is important, it is fundamental to acknowledge its limitations as an economic indicator. The dollar quotation, by itself,  should not be interpreted in isolation as a comprehensive measure of the purchasing power or quality of life of the Brazilian population."
   ]
  },
  {
   "cell_type": "markdown",
   "id": "35ac66e5",
   "metadata": {},
   "source": [
    "### Dataset\n",
    "\n",
    "The dataset used in this project was extracted from [\"Economática\"](https://www.economatica.com/), a comprehensive platform for financial data. \n",
    "\n",
    "In June 1994, Brazil implemented the \"Plano Real\", a economic strategy that changed the country's currency. When the Real was introduced, his value was pegged to U.S dolar, this means that R$1 was equal to US$1.    "
   ]
  },
  {
   "cell_type": "code",
   "execution_count": 39,
   "id": "29d212ed",
   "metadata": {},
   "outputs": [],
   "source": [
    "import numpy as np\n",
    "import pandas as pd\n",
    "import seaborn as sns\n",
    "import matplotlib.pyplot as plt"
   ]
  },
  {
   "cell_type": "code",
   "execution_count": 40,
   "id": "abf4992b",
   "metadata": {},
   "outputs": [],
   "source": [
    "file_name = \"dolar_dataset.xlsx\"\n",
    "dataset = pd.read_excel(file_name)"
   ]
  },
  {
   "cell_type": "code",
   "execution_count": 41,
   "id": "a97b6ed7",
   "metadata": {},
   "outputs": [
    {
     "data": {
      "application/vnd.microsoft.datawrangler.viewer.v0+json": {
       "columns": [
        {
         "name": "index",
         "rawType": "int64",
         "type": "integer"
        },
        {
         "name": "Mes_Ano",
         "rawType": "object",
         "type": "string"
        },
        {
         "name": "Fechamento",
         "rawType": "float64",
         "type": "float"
        }
       ],
       "ref": "4187d502-d421-4b7c-bc01-5df9871e4849",
       "rows": [
        [
         "0",
         "1994-06",
         "1.0"
        ],
        [
         "1",
         "1994-07",
         "0.94"
        ],
        [
         "2",
         "1994-08",
         "0.889"
        ],
        [
         "3",
         "1994-09",
         "0.853"
        ],
        [
         "4",
         "1994-10",
         "0.846"
        ]
       ],
       "shape": {
        "columns": 2,
        "rows": 5
       }
      },
      "text/html": [
       "<div>\n",
       "<style scoped>\n",
       "    .dataframe tbody tr th:only-of-type {\n",
       "        vertical-align: middle;\n",
       "    }\n",
       "\n",
       "    .dataframe tbody tr th {\n",
       "        vertical-align: top;\n",
       "    }\n",
       "\n",
       "    .dataframe thead th {\n",
       "        text-align: right;\n",
       "    }\n",
       "</style>\n",
       "<table border=\"1\" class=\"dataframe\">\n",
       "  <thead>\n",
       "    <tr style=\"text-align: right;\">\n",
       "      <th></th>\n",
       "      <th>Mes_Ano</th>\n",
       "      <th>Fechamento</th>\n",
       "    </tr>\n",
       "  </thead>\n",
       "  <tbody>\n",
       "    <tr>\n",
       "      <th>0</th>\n",
       "      <td>1994-06</td>\n",
       "      <td>1.000</td>\n",
       "    </tr>\n",
       "    <tr>\n",
       "      <th>1</th>\n",
       "      <td>1994-07</td>\n",
       "      <td>0.940</td>\n",
       "    </tr>\n",
       "    <tr>\n",
       "      <th>2</th>\n",
       "      <td>1994-08</td>\n",
       "      <td>0.889</td>\n",
       "    </tr>\n",
       "    <tr>\n",
       "      <th>3</th>\n",
       "      <td>1994-09</td>\n",
       "      <td>0.853</td>\n",
       "    </tr>\n",
       "    <tr>\n",
       "      <th>4</th>\n",
       "      <td>1994-10</td>\n",
       "      <td>0.846</td>\n",
       "    </tr>\n",
       "  </tbody>\n",
       "</table>\n",
       "</div>"
      ],
      "text/plain": [
       "   Mes_Ano  Fechamento\n",
       "0  1994-06       1.000\n",
       "1  1994-07       0.940\n",
       "2  1994-08       0.889\n",
       "3  1994-09       0.853\n",
       "4  1994-10       0.846"
      ]
     },
     "execution_count": 41,
     "metadata": {},
     "output_type": "execute_result"
    }
   ],
   "source": [
    "dataset.head(5)"
   ]
  },
  {
   "cell_type": "markdown",
   "id": "8aa32c81",
   "metadata": {},
   "source": [
    "The date column (Mes_Ano) was originally in YYYY-MM string formart. For a better analysis and aggregation, this column was split into two separate columns: 'Ano' (Year) and 'Mês' (Month). \n",
    "\n",
    "The column names were kept in their original Brazilian Portuguese and in the followind order:\n",
    "\n",
    "* Mês = Month -> The reference month of observation\n",
    "* Ano = Year -> The reference year of observation\n",
    "* Fechamento = Closing Value -> The exchange rate of the U.S. Dollar (USD) to the Brazilian Real (BRL) at the end of the month"
   ]
  },
  {
   "cell_type": "code",
   "execution_count": 42,
   "id": "03368ce4",
   "metadata": {},
   "outputs": [],
   "source": [
    "splited_data = dataset['Mes_Ano'].str.split('-', expand=True)\n",
    "dataset = dataset.drop(columns=['Mes_Ano'])\n",
    "dataset['Ano'] = pd.to_numeric(splited_data[0]) \n",
    "dataset['Mês'] = splited_data[1]"
   ]
  },
  {
   "cell_type": "code",
   "execution_count": 43,
   "id": "ed4aee18",
   "metadata": {},
   "outputs": [],
   "source": [
    "new_column_order = ['Mês', 'Ano', 'Fechamento']\n",
    "dataset = dataset[new_column_order]"
   ]
  },
  {
   "cell_type": "code",
   "execution_count": 44,
   "id": "5f518362",
   "metadata": {},
   "outputs": [],
   "source": [
    "df_grouped_by_year = dataset.groupby('Ano', as_index=False)['Fechamento'].mean()"
   ]
  },
  {
   "cell_type": "code",
   "execution_count": 45,
   "id": "9e1d6263",
   "metadata": {},
   "outputs": [
    {
     "data": {
      "text/plain": [
       "[]"
      ]
     },
     "execution_count": 45,
     "metadata": {},
     "output_type": "execute_result"
    },
    {
     "data": {
      "image/png": "[encoded data removed]",
      "text/plain": [
       "<Figure size 640x480 with 1 Axes>"
      ]
     },
     "metadata": {},
     "output_type": "display_data"
    }
   ],
   "source": [
    "plt.bar(df_grouped_by_year['Ano'], df_grouped_by_year['Fechamento'])\n",
    "plt.title('Média do Dólar')\n",
    "plt.xlabel('Ano')\n",
    "plt.ylabel('Dólar')\n",
    "plt.plot()"
   ]
  },
  {
   "cell_type": "markdown",
   "id": "b10361d8",
   "metadata": {},
   "source": [
    "To mantain data integrity, a copy of the original dataset was made before proceeding with the analysis. On this copied dataset, the data was aggregated into 4-year periods. This timeframe was chosen to effectively analyze long-term economic trends across different presidential terms, since elections in Brazil are held every four years."
   ]
  },
  {
   "cell_type": "code",
   "execution_count": 46,
   "id": "894daaaa",
   "metadata": {},
   "outputs": [],
   "source": [
    "df_grouped_by_four_years = dataset.copy()"
   ]
  },
  {
   "cell_type": "code",
   "execution_count": 47,
   "id": "6bd4d4c1",
   "metadata": {},
   "outputs": [],
   "source": [
    "initial_year = df_grouped_by_four_years['Ano'].min()\n",
    "group_identifier = (df_grouped_by_four_years['Ano'] - initial_year) // 4\n",
    "period_start_year = initial_year + (group_identifier*4)\n",
    "df_grouped_by_four_years['Período'] = period_start_year.astype(str) + '-' + (period_start_year + 4).astype(str)\n",
    "\n",
    "df_grouped_by_four_years = df_grouped_by_four_years.groupby('Período', as_index=False)['Fechamento'].mean()"
   ]
  },
  {
   "cell_type": "code",
   "execution_count": 48,
   "id": "01e04461",
   "metadata": {},
   "outputs": [
    {
     "data": {
      "text/plain": [
       "[]"
      ]
     },
     "execution_count": 48,
     "metadata": {},
     "output_type": "execute_result"
    },
    {
     "data": {
      "image/png": "[encoded data removed]",
      "text/plain": [
       "<Figure size 1200x600 with 1 Axes>"
      ]
     },
     "metadata": {},
     "output_type": "display_data"
    }
   ],
   "source": [
    "plt.figure(figsize=(12,6))\n",
    "plt.bar(df_grouped_by_four_years['Período'], df_grouped_by_four_years['Fechamento'], color='#3e9c35')\n",
    "plt.title('Média da Taxa de Câmbio (USD/BRL)')\n",
    "plt.ylabel('Dólar')\n",
    "plt.xlabel('Ano')\n",
    "plt.plot()"
   ]
  },
  {
   "cell_type": "code",
   "execution_count": 49,
   "id": "e06c617d",
   "metadata": {},
   "outputs": [
    {
     "name": "stdout",
     "output_type": "stream",
     "text": [
      "0          NaN\n",
      "1    82.824903\n",
      "2    58.084607\n",
      "3   -30.436173\n",
      "4    -4.533247\n",
      "5    63.969557\n",
      "6    47.363965\n",
      "7    15.437079\n",
      "Name: Fechamento, dtype: float64\n"
     ]
    }
   ],
   "source": [
    "dolar_variation = df_grouped_by_four_years['Fechamento'].pct_change()\n",
    "print(dolar_variation*100)"
   ]
  },
  {
   "cell_type": "markdown",
   "id": "52e20e57",
   "metadata": {},
   "source": [
    "This follow analysis focuses on the transition between each 4-year period, quantifying each change based strictly on the avaiable data.\n",
    "\n",
    "**1. Transition from 1994-98 to 1998-02**\n",
    "* From an average of **BRL 0.98** to **BRL 1.80**.\n",
    "* **Numerical Analysis:** An **83% increase** in the average exchange rate is observed. This is the largest percentage jump in the entire dataset, indicating an abrupt structural change from the previous level.\n",
    "\n",
    "**2. Transition from 1998-02 to 2002-06**\n",
    "* From an average of **BRL 1.80** to **BRL 2.84**.\n",
    "* **Numerical Analysis:** The upward trend continued with an **additional 58% increase**. This demonstrates that the upward movement was not an isolated event but a sustained trend that extended over multiple periods.\n",
    "\n",
    "**3. Transition from 2002-06 to 2006-10**\n",
    "* From an average of **BRL 2.84** to **BRL 1.98**.\n",
    "* **Numerical Analysis:** A trend reversal occurred, with a **30% decrease** in the average rate. This was the most significant appreciation movement for the Real in the entire historical series analyzed.\n",
    "\n",
    "**4. Transition from 2006-10 to 2010-14**\n",
    "* From an average of **BRL 1.98** to **BRL 1.89**.\n",
    "* **Numerical Analysis:** The downward trend in the average continued, but with less intensity: a **4.5% reduction**. At **BRL 1.89**, the exchange rate reached its lowest average value since the beginning of the first upward cycle.\n",
    "\n",
    "**5. Transition from 2010-14 to 2014-18**\n",
    "* From an average of **BRL 1.89** to **BRL 3.10**.\n",
    "* **Numerical Analysis:** A new and sharp upward trend reversal occurred, with a **64% increase**. This percentage jump is comparable in magnitude to the first major increase observed in the series.\n",
    "\n",
    "**6. Transition from 2014-18 to 2018-22**\n",
    "* From an average of **BRL 3.10** to **BRL 4.56**.\n",
    "* **Numerical Analysis:** The upward trajectory persisted, with a **47% increase** over the previous period's average.\n",
    "\n",
    "**7. Transition from 2018-22 to 2022-26**\n",
    "* From an average of **BRL 4.56** to **BRL 5.27**.\n",
    "* **Numerical Analysis:** The pace of the increase slowed compared to the previous periods, registering a **15% rise**. The average settled at the highest level in the entire historical series. (Note: This last period represents a partial average based on data up to the present).\n",
    "\n",
    "A purely numerical analysis of the data reveals a non-linear behavior for the exchange rate. Instead of a gradual trend, the series is characterized by periods of relative stability interrupted by abrupt, large-magnitude changes (both upward and downward), such as the +83% and +64% jumps, and the -30% reversal. The data itself shows high volatility between the 4-year periods."
   ]
  }
 ],
 "metadata": {
  "kernelspec": {
   "display_name": "Python 3",
   "language": "python",
   "name": "python3"
  },
  "language_info": {
   "codemirror_mode": {
    "name": "ipython",
    "version": 3
   },
   "file_extension": ".py",
   "mimetype": "text/x-python",
   "name": "python",
   "nbconvert_exporter": "python",
   "pygments_lexer": "ipython3",
   "version": "3.13.3"
  }
 },
 "nbformat": 4,
 "nbformat_minor": 5
}
